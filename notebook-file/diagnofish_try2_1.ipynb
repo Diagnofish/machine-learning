{
  "nbformat": 4,
  "nbformat_minor": 0,
  "metadata": {
    "colab": {
      "provenance": [],
      "toc_visible": true
    },
    "kernelspec": {
      "name": "python3",
      "display_name": "Python 3"
    },
    "language_info": {
      "name": "python"
    }
  },
  "cells": [
    {
      "cell_type": "markdown",
      "source": [
        "# Data Gathering"
      ],
      "metadata": {
        "id": "D-xcTZT_UmJ3"
      }
    },
    {
      "cell_type": "markdown",
      "source": [
        "Download the data [here](https://www.kaggle.com/datasets/subirbiswas19/freshwater-fish-disease-aquaculture-in-south-asia/data?select=SB-FishDisease). Then import and extract the data. To import the data you can manually upload the data to Colab."
      ],
      "metadata": {
        "id": "mI7r6wrMwoMg"
      }
    },
    {
      "cell_type": "markdown",
      "source": [
        "## Import & extract data"
      ],
      "metadata": {
        "id": "kqGFQWrayuT5"
      }
    },
    {
      "cell_type": "code",
      "source": [
        "import zipfile\n",
        "\n",
        "# Location of zip file that want to be extracted\n",
        "zip_file_path = \"/content/SB-FishDisease.zip\"\n",
        "\n",
        "# Path to extract the file\n",
        "extract_path = \"/tmp\"\n",
        "\n",
        "# Extract the archive\n",
        "zip_ref = zipfile.ZipFile(zip_file_path, 'r')\n",
        "zip_ref.extractall(extract_path)\n",
        "zip_ref.close()\n",
        "\n",
        "# Define our example directories and files\n",
        "base_dir = '/tmp/SB-FishDisease'"
      ],
      "metadata": {
        "id": "lO5NQikySHoJ"
      },
      "execution_count": null,
      "outputs": []
    },
    {
      "cell_type": "markdown",
      "source": [
        "# Data Preprocessing"
      ],
      "metadata": {
        "id": "B_DhmDGxBBxr"
      }
    },
    {
      "cell_type": "markdown",
      "source": [
        "## Split Data"
      ],
      "metadata": {
        "id": "3S8xiMXfyc7S"
      }
    },
    {
      "cell_type": "markdown",
      "source": [
        "Install [split-folders](https://pypi.org/project/split-folders/) for splitting data."
      ],
      "metadata": {
        "id": "6-n4uSl0bHC2"
      }
    },
    {
      "cell_type": "code",
      "source": [
        "!pip install split-folders"
      ],
      "metadata": {
        "colab": {
          "base_uri": "https://localhost:8080/"
        },
        "id": "r8qlQw7xDaq8",
        "outputId": "1c5777b7-67da-4ec5-a956-28744a156d7f"
      },
      "execution_count": null,
      "outputs": [
        {
          "output_type": "stream",
          "name": "stdout",
          "text": [
            "Collecting split-folders\n",
            "  Downloading split_folders-0.5.1-py3-none-any.whl (8.4 kB)\n",
            "Installing collected packages: split-folders\n",
            "Successfully installed split-folders-0.5.1\n"
          ]
        }
      ]
    },
    {
      "cell_type": "code",
      "source": [
        "# run if you want to delete the splitted data\n",
        "import shutil\n",
        "\n",
        "try:\n",
        "    folder_path = '/tmp/fishdata'\n",
        "    shutil.rmtree(folder_path)\n",
        "    print('Folder and its content removed')\n",
        "except:\n",
        "    print('Folder not deleted')"
      ],
      "metadata": {
        "colab": {
          "base_uri": "https://localhost:8080/"
        },
        "id": "oakVq7DdMRBs",
        "outputId": "1ca693a0-d70e-4d17-f3be-7c0285160d8f"
      },
      "execution_count": null,
      "outputs": [
        {
          "output_type": "stream",
          "name": "stdout",
          "text": [
            "Folder and its content removed\n"
          ]
        }
      ]
    },
    {
      "cell_type": "code",
      "source": [
        "import splitfolders\n",
        "\n",
        "# split data to traininng (80%) and validation (20%)\n",
        "splitfolders.ratio(base_dir, output=\"/tmp/fishdata\",\n",
        "    seed=1337, ratio=(.8, .2), group_prefix=None, move=False)"
      ],
      "metadata": {
        "colab": {
          "base_uri": "https://localhost:8080/"
        },
        "id": "iwSZk9PIAsAd",
        "outputId": "b80155e7-c59c-4943-fc3b-8e3bc5b7cd88"
      },
      "execution_count": null,
      "outputs": [
        {
          "output_type": "stream",
          "name": "stderr",
          "text": [
            "Copying files: 460 files [00:00, 7354.28 files/s]\n"
          ]
        }
      ]
    },
    {
      "cell_type": "markdown",
      "source": [
        "## Data Normalization & Augmentation"
      ],
      "metadata": {
        "id": "EtrAsEOny8Up"
      }
    },
    {
      "cell_type": "code",
      "source": [
        "# use ImageDataGenerator for data augmentation\n",
        "from tensorflow.keras.preprocessing.image import ImageDataGenerator\n",
        "\n",
        "train_dir = '/tmp/fishdata/train'\n",
        "valid_dir = '/tmp/fishdata/val'\n",
        "\n",
        "# Add data-augmentation parameters to ImageDataGenerator\n",
        "train_datagen = ImageDataGenerator(rescale = 1./255, # rescale to normalize the data\n",
        "                                   rotation_range = 40,\n",
        "                                   width_shift_range = 0.1,\n",
        "                                   height_shift_range = 0.1,\n",
        "                                   shear_range = 0.1,\n",
        "                                   zoom_range = 0.1,\n",
        "                                   horizontal_flip = True,\n",
        "                                   vertical_flip = True)\n",
        "\n",
        "valid_datagen = ImageDataGenerator( rescale = 1.0/255 )\n",
        "\n",
        "\n",
        "train_generator = train_datagen.flow_from_directory(train_dir,\n",
        "                                                    class_mode = 'categorical',\n",
        "                                                    target_size = (224, 224))\n",
        "\n",
        "\n",
        "validation_generator =  valid_datagen.flow_from_directory(valid_dir,\n",
        "                                                          class_mode  = 'categorical',\n",
        "                                                          target_size = (224, 224))"
      ],
      "metadata": {
        "colab": {
          "base_uri": "https://localhost:8080/"
        },
        "id": "si5Ni1buTsoL",
        "outputId": "07fddd4a-5da4-467f-8304-f10ab0de1fa7"
      },
      "execution_count": null,
      "outputs": [
        {
          "output_type": "stream",
          "name": "stdout",
          "text": [
            "Found 362 images belonging to 7 classes.\n",
            "Found 95 images belonging to 7 classes.\n"
          ]
        }
      ]
    },
    {
      "cell_type": "markdown",
      "source": [
        "# Modeling"
      ],
      "metadata": {
        "id": "sbTi0IVzEwZT"
      }
    },
    {
      "cell_type": "markdown",
      "source": [
        "## Create Model"
      ],
      "metadata": {
        "id": "O5EKf4vqxPYF"
      }
    },
    {
      "cell_type": "markdown",
      "source": [
        "Load pre-trained model. The pre-trained model we use is MobileNetV2, you can find the model [here](https://www.kaggle.com/models/google/mobilenet-v2/frameworks/TensorFlow2/variations/140-224-feature-vector/versions/2)."
      ],
      "metadata": {
        "id": "DAroRYSzW6pW"
      }
    },
    {
      "cell_type": "code",
      "execution_count": null,
      "metadata": {
        "id": "J7szbXi-RVnu"
      },
      "outputs": [],
      "source": [
        "import tensorflow as tf\n",
        "import tensorflow_hub as hub\n",
        "\n",
        "# recommended input image size = (224,224,3)\n",
        "mobilenetv2_140 = \"https://www.kaggle.com/models/google/mobilenet-v2/frameworks/TensorFlow2/variations/140-224-feature-vector/versions/2\"\n",
        "\n",
        "feature_extractor_model = mobilenetv2_140"
      ]
    },
    {
      "cell_type": "code",
      "source": [
        "# load the pre-trained model\n",
        "feature_extractor_layer = hub.KerasLayer(\n",
        "    feature_extractor_model,\n",
        "    input_shape=(224, 224, 3),\n",
        "    trainable=True)"
      ],
      "metadata": {
        "id": "6t1uhJ2_RZlD"
      },
      "execution_count": null,
      "outputs": []
    },
    {
      "cell_type": "code",
      "source": [
        "num_classes = 7\n",
        "\n",
        "model = tf.keras.Sequential([\n",
        "  feature_extractor_layer,\n",
        "  tf.keras.layers.Dense(512, activation='relu'),\n",
        "  tf.keras.layers.Dropout(0.2),\n",
        "  tf.keras.layers.Dense(1024, activation='relu'),\n",
        "  tf.keras.layers.Dropout(0.2),\n",
        "  tf.keras.layers.Dense(num_classes, activation='softmax')\n",
        "])\n",
        "\n",
        "model.summary()"
      ],
      "metadata": {
        "colab": {
          "base_uri": "https://localhost:8080/"
        },
        "id": "avrizFfHRti7",
        "outputId": "90495269-fb60-4fc1-87ee-e5a31289a0a9"
      },
      "execution_count": null,
      "outputs": [
        {
          "output_type": "stream",
          "name": "stdout",
          "text": [
            "Model: \"sequential_3\"\n",
            "_________________________________________________________________\n",
            " Layer (type)                Output Shape              Param #   \n",
            "=================================================================\n",
            " keras_layer_2 (KerasLayer)  (None, 1792)              4363712   \n",
            "                                                                 \n",
            " dense_8 (Dense)             (None, 512)               918016    \n",
            "                                                                 \n",
            " dropout_5 (Dropout)         (None, 512)               0         \n",
            "                                                                 \n",
            " dense_9 (Dense)             (None, 1024)              525312    \n",
            "                                                                 \n",
            " dropout_6 (Dropout)         (None, 1024)              0         \n",
            "                                                                 \n",
            " dense_10 (Dense)            (None, 7)                 7175      \n",
            "                                                                 \n",
            "=================================================================\n",
            "Total params: 5814215 (22.18 MB)\n",
            "Trainable params: 5766279 (22.00 MB)\n",
            "Non-trainable params: 47936 (187.25 KB)\n",
            "_________________________________________________________________\n"
          ]
        }
      ]
    },
    {
      "cell_type": "markdown",
      "source": [
        "## Train Model"
      ],
      "metadata": {
        "id": "MRcCWnA0yTVF"
      }
    },
    {
      "cell_type": "code",
      "source": [
        "# create checkpoint to save best weights\n",
        "checkpoint_path='model/my_checkpoint.ckpt'\n",
        "\n",
        "checkpoint = tf.keras.callbacks.ModelCheckpoint(checkpoint_path,\n",
        "                             save_weights_only=True,\n",
        "                             save_best_only=True,\n",
        "                             monitor='val_loss',\n",
        "                             verbose=1,\n",
        "                             )"
      ],
      "metadata": {
        "id": "jwu0pacHMeAB"
      },
      "execution_count": null,
      "outputs": []
    },
    {
      "cell_type": "code",
      "source": [
        "# Set the training parameters\n",
        "\n",
        "optimizer=tf.keras.optimizers.SGD(learning_rate=1e-3, momentum=0.9)\n",
        "#optimizer=tf.keras.optimizers.Adam(learning_rate=3e-5)\n",
        "#optimizer=tf.keras.optimizers.RMSprop(learning_rate=1e-3, momentum=0.9)\n",
        "\n",
        "model.compile(optimizer = optimizer ,\n",
        "              loss = 'categorical_crossentropy',\n",
        "              metrics = ['accuracy'])"
      ],
      "metadata": {
        "id": "L9ZRdhP_Uoc7"
      },
      "execution_count": null,
      "outputs": []
    },
    {
      "cell_type": "code",
      "source": [
        "# Train the model.\n",
        "history = model.fit(\n",
        "            train_generator,\n",
        "            validation_data = validation_generator,\n",
        "            epochs = 50,\n",
        "            callbacks=[checkpoint],\n",
        "            verbose = 2,\n",
        "            )"
      ],
      "metadata": {
        "id": "GGNgX60WUchn",
        "colab": {
          "base_uri": "https://localhost:8080/"
        },
        "outputId": "49a300be-eb2f-459e-e8ee-ead9c1c8378a"
      },
      "execution_count": null,
      "outputs": [
        {
          "output_type": "stream",
          "name": "stdout",
          "text": [
            "Epoch 1/50\n",
            "\n",
            "Epoch 1: val_loss improved from inf to 1.86567, saving model to model/my_checkpoint.ckpt\n",
            "12/12 - 21s - loss: 1.9908 - accuracy: 0.2818 - val_loss: 1.8657 - val_accuracy: 0.3789 - 21s/epoch - 2s/step\n",
            "Epoch 2/50\n",
            "\n",
            "Epoch 2: val_loss improved from 1.86567 to 1.71229, saving model to model/my_checkpoint.ckpt\n",
            "12/12 - 6s - loss: 1.7073 - accuracy: 0.3950 - val_loss: 1.7123 - val_accuracy: 0.3789 - 6s/epoch - 497ms/step\n",
            "Epoch 3/50\n",
            "\n",
            "Epoch 3: val_loss improved from 1.71229 to 1.52357, saving model to model/my_checkpoint.ckpt\n",
            "12/12 - 9s - loss: 1.5046 - accuracy: 0.5055 - val_loss: 1.5236 - val_accuracy: 0.4632 - 9s/epoch - 764ms/step\n",
            "Epoch 4/50\n",
            "\n",
            "Epoch 4: val_loss improved from 1.52357 to 1.43020, saving model to model/my_checkpoint.ckpt\n",
            "12/12 - 7s - loss: 1.3169 - accuracy: 0.5912 - val_loss: 1.4302 - val_accuracy: 0.5579 - 7s/epoch - 600ms/step\n",
            "Epoch 5/50\n",
            "\n",
            "Epoch 5: val_loss improved from 1.43020 to 1.32560, saving model to model/my_checkpoint.ckpt\n",
            "12/12 - 6s - loss: 1.2119 - accuracy: 0.6105 - val_loss: 1.3256 - val_accuracy: 0.6211 - 6s/epoch - 460ms/step\n",
            "Epoch 6/50\n",
            "\n",
            "Epoch 6: val_loss improved from 1.32560 to 1.15564, saving model to model/my_checkpoint.ckpt\n",
            "12/12 - 9s - loss: 1.1113 - accuracy: 0.7099 - val_loss: 1.1556 - val_accuracy: 0.6737 - 9s/epoch - 741ms/step\n",
            "Epoch 7/50\n",
            "\n",
            "Epoch 7: val_loss improved from 1.15564 to 1.07275, saving model to model/my_checkpoint.ckpt\n",
            "12/12 - 5s - loss: 1.0088 - accuracy: 0.7459 - val_loss: 1.0728 - val_accuracy: 0.7053 - 5s/epoch - 458ms/step\n",
            "Epoch 8/50\n",
            "\n",
            "Epoch 8: val_loss improved from 1.07275 to 1.02848, saving model to model/my_checkpoint.ckpt\n",
            "12/12 - 5s - loss: 0.9125 - accuracy: 0.7790 - val_loss: 1.0285 - val_accuracy: 0.7158 - 5s/epoch - 451ms/step\n",
            "Epoch 9/50\n",
            "\n",
            "Epoch 9: val_loss improved from 1.02848 to 0.94613, saving model to model/my_checkpoint.ckpt\n",
            "12/12 - 6s - loss: 0.8279 - accuracy: 0.7928 - val_loss: 0.9461 - val_accuracy: 0.7158 - 6s/epoch - 518ms/step\n",
            "Epoch 10/50\n",
            "\n",
            "Epoch 10: val_loss improved from 0.94613 to 0.91829, saving model to model/my_checkpoint.ckpt\n",
            "12/12 - 7s - loss: 0.7092 - accuracy: 0.8536 - val_loss: 0.9183 - val_accuracy: 0.7474 - 7s/epoch - 609ms/step\n",
            "Epoch 11/50\n",
            "\n",
            "Epoch 11: val_loss improved from 0.91829 to 0.85861, saving model to model/my_checkpoint.ckpt\n",
            "12/12 - 5s - loss: 0.6405 - accuracy: 0.8508 - val_loss: 0.8586 - val_accuracy: 0.7684 - 5s/epoch - 452ms/step\n",
            "Epoch 12/50\n",
            "\n",
            "Epoch 12: val_loss improved from 0.85861 to 0.82319, saving model to model/my_checkpoint.ckpt\n",
            "12/12 - 6s - loss: 0.5526 - accuracy: 0.8840 - val_loss: 0.8232 - val_accuracy: 0.7895 - 6s/epoch - 481ms/step\n",
            "Epoch 13/50\n",
            "\n",
            "Epoch 13: val_loss improved from 0.82319 to 0.78269, saving model to model/my_checkpoint.ckpt\n",
            "12/12 - 6s - loss: 0.5253 - accuracy: 0.8812 - val_loss: 0.7827 - val_accuracy: 0.8000 - 6s/epoch - 481ms/step\n",
            "Epoch 14/50\n",
            "\n",
            "Epoch 14: val_loss improved from 0.78269 to 0.77717, saving model to model/my_checkpoint.ckpt\n",
            "12/12 - 7s - loss: 0.4301 - accuracy: 0.9033 - val_loss: 0.7772 - val_accuracy: 0.8105 - 7s/epoch - 616ms/step\n",
            "Epoch 15/50\n",
            "\n",
            "Epoch 15: val_loss improved from 0.77717 to 0.75996, saving model to model/my_checkpoint.ckpt\n",
            "12/12 - 7s - loss: 0.3759 - accuracy: 0.9530 - val_loss: 0.7600 - val_accuracy: 0.8105 - 7s/epoch - 583ms/step\n",
            "Epoch 16/50\n",
            "\n",
            "Epoch 16: val_loss improved from 0.75996 to 0.72861, saving model to model/my_checkpoint.ckpt\n",
            "12/12 - 5s - loss: 0.3458 - accuracy: 0.9365 - val_loss: 0.7286 - val_accuracy: 0.8211 - 5s/epoch - 452ms/step\n",
            "Epoch 17/50\n",
            "\n",
            "Epoch 17: val_loss improved from 0.72861 to 0.71440, saving model to model/my_checkpoint.ckpt\n",
            "12/12 - 6s - loss: 0.3385 - accuracy: 0.9365 - val_loss: 0.7144 - val_accuracy: 0.8000 - 6s/epoch - 501ms/step\n",
            "Epoch 18/50\n",
            "\n",
            "Epoch 18: val_loss improved from 0.71440 to 0.70433, saving model to model/my_checkpoint.ckpt\n",
            "12/12 - 6s - loss: 0.2875 - accuracy: 0.9530 - val_loss: 0.7043 - val_accuracy: 0.7895 - 6s/epoch - 499ms/step\n",
            "Epoch 19/50\n",
            "\n",
            "Epoch 19: val_loss did not improve from 0.70433\n",
            "12/12 - 5s - loss: 0.2641 - accuracy: 0.9669 - val_loss: 0.7114 - val_accuracy: 0.7895 - 5s/epoch - 422ms/step\n",
            "Epoch 20/50\n",
            "\n",
            "Epoch 20: val_loss improved from 0.70433 to 0.69564, saving model to model/my_checkpoint.ckpt\n",
            "12/12 - 8s - loss: 0.2376 - accuracy: 0.9779 - val_loss: 0.6956 - val_accuracy: 0.7895 - 8s/epoch - 662ms/step\n",
            "Epoch 21/50\n",
            "\n",
            "Epoch 21: val_loss improved from 0.69564 to 0.68517, saving model to model/my_checkpoint.ckpt\n",
            "12/12 - 6s - loss: 0.2229 - accuracy: 0.9586 - val_loss: 0.6852 - val_accuracy: 0.8000 - 6s/epoch - 465ms/step\n",
            "Epoch 22/50\n",
            "\n",
            "Epoch 22: val_loss did not improve from 0.68517\n",
            "12/12 - 5s - loss: 0.2396 - accuracy: 0.9641 - val_loss: 0.7043 - val_accuracy: 0.8000 - 5s/epoch - 426ms/step\n",
            "Epoch 23/50\n",
            "\n",
            "Epoch 23: val_loss did not improve from 0.68517\n",
            "12/12 - 5s - loss: 0.1853 - accuracy: 0.9807 - val_loss: 0.7205 - val_accuracy: 0.8105 - 5s/epoch - 438ms/step\n",
            "Epoch 24/50\n",
            "\n",
            "Epoch 24: val_loss did not improve from 0.68517\n",
            "12/12 - 6s - loss: 0.1778 - accuracy: 0.9724 - val_loss: 0.7063 - val_accuracy: 0.8105 - 6s/epoch - 535ms/step\n",
            "Epoch 25/50\n",
            "\n",
            "Epoch 25: val_loss did not improve from 0.68517\n",
            "12/12 - 6s - loss: 0.1511 - accuracy: 0.9862 - val_loss: 0.6959 - val_accuracy: 0.8211 - 6s/epoch - 531ms/step\n",
            "Epoch 26/50\n",
            "\n",
            "Epoch 26: val_loss improved from 0.68517 to 0.62253, saving model to model/my_checkpoint.ckpt\n",
            "12/12 - 6s - loss: 0.1717 - accuracy: 0.9779 - val_loss: 0.6225 - val_accuracy: 0.8632 - 6s/epoch - 486ms/step\n",
            "Epoch 27/50\n",
            "\n",
            "Epoch 27: val_loss did not improve from 0.62253\n",
            "12/12 - 7s - loss: 0.1581 - accuracy: 0.9807 - val_loss: 0.6405 - val_accuracy: 0.8526 - 7s/epoch - 560ms/step\n",
            "Epoch 28/50\n",
            "\n",
            "Epoch 28: val_loss did not improve from 0.62253\n",
            "12/12 - 5s - loss: 0.1684 - accuracy: 0.9834 - val_loss: 0.6718 - val_accuracy: 0.8421 - 5s/epoch - 420ms/step\n",
            "Epoch 29/50\n",
            "\n",
            "Epoch 29: val_loss did not improve from 0.62253\n",
            "12/12 - 6s - loss: 0.1574 - accuracy: 0.9834 - val_loss: 0.7385 - val_accuracy: 0.8105 - 6s/epoch - 521ms/step\n",
            "Epoch 30/50\n",
            "\n",
            "Epoch 30: val_loss did not improve from 0.62253\n",
            "12/12 - 5s - loss: 0.1793 - accuracy: 0.9807 - val_loss: 0.7515 - val_accuracy: 0.8211 - 5s/epoch - 418ms/step\n",
            "Epoch 31/50\n",
            "\n",
            "Epoch 31: val_loss did not improve from 0.62253\n",
            "12/12 - 7s - loss: 0.1699 - accuracy: 0.9779 - val_loss: 0.7361 - val_accuracy: 0.8211 - 7s/epoch - 569ms/step\n",
            "Epoch 32/50\n",
            "\n",
            "Epoch 32: val_loss did not improve from 0.62253\n",
            "12/12 - 5s - loss: 0.1364 - accuracy: 0.9945 - val_loss: 0.7366 - val_accuracy: 0.8316 - 5s/epoch - 420ms/step\n",
            "Epoch 33/50\n",
            "\n",
            "Epoch 33: val_loss did not improve from 0.62253\n",
            "12/12 - 7s - loss: 0.1358 - accuracy: 0.9917 - val_loss: 0.7499 - val_accuracy: 0.8316 - 7s/epoch - 562ms/step\n",
            "Epoch 34/50\n",
            "\n",
            "Epoch 34: val_loss did not improve from 0.62253\n",
            "12/12 - 5s - loss: 0.1317 - accuracy: 0.9945 - val_loss: 0.7484 - val_accuracy: 0.8316 - 5s/epoch - 422ms/step\n",
            "Epoch 35/50\n",
            "\n",
            "Epoch 35: val_loss did not improve from 0.62253\n",
            "12/12 - 7s - loss: 0.1297 - accuracy: 0.9890 - val_loss: 0.7445 - val_accuracy: 0.8211 - 7s/epoch - 557ms/step\n",
            "Epoch 36/50\n",
            "\n",
            "Epoch 36: val_loss did not improve from 0.62253\n",
            "12/12 - 5s - loss: 0.1536 - accuracy: 0.9890 - val_loss: 0.7488 - val_accuracy: 0.8421 - 5s/epoch - 426ms/step\n",
            "Epoch 37/50\n",
            "\n",
            "Epoch 37: val_loss did not improve from 0.62253\n",
            "12/12 - 7s - loss: 0.1334 - accuracy: 0.9890 - val_loss: 0.7467 - val_accuracy: 0.8421 - 7s/epoch - 567ms/step\n",
            "Epoch 38/50\n",
            "\n",
            "Epoch 38: val_loss did not improve from 0.62253\n",
            "12/12 - 5s - loss: 0.1304 - accuracy: 0.9890 - val_loss: 0.7451 - val_accuracy: 0.8316 - 5s/epoch - 418ms/step\n",
            "Epoch 39/50\n",
            "\n",
            "Epoch 39: val_loss did not improve from 0.62253\n",
            "12/12 - 6s - loss: 0.1194 - accuracy: 1.0000 - val_loss: 0.7446 - val_accuracy: 0.8421 - 6s/epoch - 491ms/step\n",
            "Epoch 40/50\n",
            "\n",
            "Epoch 40: val_loss did not improve from 0.62253\n",
            "12/12 - 5s - loss: 0.1245 - accuracy: 0.9917 - val_loss: 0.7325 - val_accuracy: 0.8421 - 5s/epoch - 419ms/step\n",
            "Epoch 41/50\n",
            "\n",
            "Epoch 41: val_loss did not improve from 0.62253\n",
            "12/12 - 7s - loss: 0.1215 - accuracy: 0.9945 - val_loss: 0.7571 - val_accuracy: 0.8421 - 7s/epoch - 556ms/step\n",
            "Epoch 42/50\n",
            "\n",
            "Epoch 42: val_loss did not improve from 0.62253\n",
            "12/12 - 8s - loss: 0.1168 - accuracy: 0.9917 - val_loss: 0.7884 - val_accuracy: 0.8421 - 8s/epoch - 670ms/step\n",
            "Epoch 43/50\n",
            "\n",
            "Epoch 43: val_loss did not improve from 0.62253\n",
            "12/12 - 7s - loss: 0.1291 - accuracy: 0.9917 - val_loss: 0.7843 - val_accuracy: 0.8421 - 7s/epoch - 599ms/step\n",
            "Epoch 44/50\n",
            "\n",
            "Epoch 44: val_loss did not improve from 0.62253\n",
            "12/12 - 8s - loss: 0.1210 - accuracy: 0.9945 - val_loss: 0.7805 - val_accuracy: 0.8316 - 8s/epoch - 647ms/step\n",
            "Epoch 45/50\n",
            "\n",
            "Epoch 45: val_loss did not improve from 0.62253\n",
            "12/12 - 7s - loss: 0.1363 - accuracy: 0.9917 - val_loss: 0.7520 - val_accuracy: 0.8316 - 7s/epoch - 558ms/step\n",
            "Epoch 46/50\n",
            "\n",
            "Epoch 46: val_loss did not improve from 0.62253\n",
            "12/12 - 8s - loss: 0.1289 - accuracy: 0.9890 - val_loss: 0.7200 - val_accuracy: 0.8421 - 8s/epoch - 641ms/step\n",
            "Epoch 47/50\n",
            "\n",
            "Epoch 47: val_loss did not improve from 0.62253\n",
            "12/12 - 6s - loss: 0.1248 - accuracy: 0.9917 - val_loss: 0.7573 - val_accuracy: 0.8316 - 6s/epoch - 506ms/step\n",
            "Epoch 48/50\n",
            "\n",
            "Epoch 48: val_loss did not improve from 0.62253\n",
            "12/12 - 9s - loss: 0.1349 - accuracy: 0.9834 - val_loss: 0.7517 - val_accuracy: 0.8421 - 9s/epoch - 732ms/step\n",
            "Epoch 49/50\n",
            "\n",
            "Epoch 49: val_loss did not improve from 0.62253\n",
            "12/12 - 5s - loss: 0.1203 - accuracy: 0.9945 - val_loss: 0.7539 - val_accuracy: 0.8421 - 5s/epoch - 455ms/step\n",
            "Epoch 50/50\n",
            "\n",
            "Epoch 50: val_loss did not improve from 0.62253\n",
            "12/12 - 8s - loss: 0.1094 - accuracy: 1.0000 - val_loss: 0.7857 - val_accuracy: 0.8421 - 8s/epoch - 702ms/step\n"
          ]
        }
      ]
    },
    {
      "cell_type": "code",
      "source": [
        "# see training plot\n",
        "\n",
        "import matplotlib.pyplot as plt\n",
        "acc = history.history['accuracy']\n",
        "val_acc = history.history['val_accuracy']\n",
        "loss = history.history['loss']\n",
        "val_loss = history.history['val_loss']\n",
        "\n",
        "epochs = range(len(acc))\n",
        "\n",
        "plt.plot(epochs, acc, 'r', label='Training accuracy')\n",
        "plt.plot(epochs, val_acc, 'b', label='Validation accuracy')\n",
        "plt.title('Training and validation accuracy')\n",
        "plt.legend(loc=0)\n",
        "plt.figure()\n",
        "\n",
        "\n",
        "plt.show()"
      ],
      "metadata": {
        "colab": {
          "base_uri": "https://localhost:8080/",
          "height": 469
        },
        "id": "sBZm2VwDTc9u",
        "outputId": "a5a0dc08-19b1-43cc-a2b7-44ab0dc8bed9"
      },
      "execution_count": null,
      "outputs": [
        {
          "output_type": "display_data",
          "data": {
            "text/plain": [
              "<Figure size 640x480 with 1 Axes>"
            ],
            "image/png": "[encoded data removed]"
          },
          "metadata": {}
        },
        {
          "output_type": "display_data",
          "data": {
            "text/plain": [
              "<Figure size 640x480 with 0 Axes>"
            ]
          },
          "metadata": {}
        }
      ]
    },
    {
      "cell_type": "markdown",
      "source": [
        "## Save Model"
      ],
      "metadata": {
        "id": "vAAiEHPnlPQ2"
      }
    },
    {
      "cell_type": "code",
      "source": [
        "# load weights from checkpoint\n",
        "model.load_weights(checkpoint_path)"
      ],
      "metadata": {
        "colab": {
          "base_uri": "https://localhost:8080/"
        },
        "id": "dX5RhvouMZxw",
        "outputId": "65af101c-6443-4c69-8ecb-f1dce19c95d3"
      },
      "execution_count": null,
      "outputs": [
        {
          "output_type": "execute_result",
          "data": {
            "text/plain": [
              "<tensorflow.python.checkpoint.checkpoint.CheckpointLoadStatus at 0x79e04c697fa0>"
            ]
          },
          "metadata": {},
          "execution_count": 38
        }
      ]
    },
    {
      "cell_type": "code",
      "source": [
        "# Save model in h5 format\n",
        "model_path = './model/model_mob_l62a86.h5'\n",
        "model.save(model_path)"
      ],
      "metadata": {
        "colab": {
          "base_uri": "https://localhost:8080/"
        },
        "id": "Autot15tbZw2",
        "outputId": "b0947e82-d16a-4412-8c20-3fac31082057"
      },
      "execution_count": null,
      "outputs": [
        {
          "output_type": "stream",
          "name": "stderr",
          "text": [
            "/usr/local/lib/python3.10/dist-packages/keras/src/engine/training.py:3079: UserWarning: You are saving your model as an HDF5 file via `model.save()`. This file format is considered legacy. We recommend using instead the native Keras format, e.g. `model.save('my_model.keras')`.\n",
            "  saving_api.save_model(\n"
          ]
        }
      ]
    },
    {
      "cell_type": "code",
      "source": [
        "# load model\n",
        "my_reloaded_model = tf.keras.models.load_model(\n",
        "       (model_path),\n",
        "       custom_objects={'KerasLayer':hub.KerasLayer}\n",
        ")"
      ],
      "metadata": {
        "id": "Rl5Y85TPRsE_"
      },
      "execution_count": null,
      "outputs": []
    },
    {
      "cell_type": "markdown",
      "source": [
        "## Evaluate Model"
      ],
      "metadata": {
        "id": "UQLWRwygsWC_"
      }
    },
    {
      "cell_type": "code",
      "source": [
        "import os\n",
        "import numpy as np\n",
        "from tensorflow.keras.preprocessing import image\n",
        "import pandas as pd\n",
        "\n",
        "def check_wrong_pred(check_dir, model):\n",
        "\n",
        "  '''\n",
        "  This function will check whether images in the check_dir get the wrong\n",
        "  prediction or not the information about images with wrong predictions will\n",
        "  stored in the pandas Data Frame\n",
        "\n",
        "  Parameter:\n",
        "  - check_dir: directory path of the image that wants to be checked\n",
        "  - model: the model that used for predicting\n",
        "\n",
        "  Return:\n",
        "  - wrong_pred_df: pandas Data Frame that contains information about the image\n",
        "  that got wrong prediction\n",
        "  '''\n",
        "\n",
        "  images_classes_name = ['Bacterial Red disease',\n",
        "                       'Bacterial diseases - Aeromoniasis',\n",
        "                       'Bacterial gill disease',\n",
        "                       'Fungal diseases Saprolegniasis',\n",
        "                       'Healthy Fish',\n",
        "                       'Parasitic diseases',\n",
        "                       'Viral diseases White tail disease']\n",
        "\n",
        "  real_class_list = []\n",
        "  test_image_path = []\n",
        "  predicted_class_list = []\n",
        "  max_prob_list = []\n",
        "\n",
        "  for classes in images_classes_name:\n",
        "    for files in os.listdir(os.path.join(check_dir, classes)):\n",
        "      file_path = os.path.join(check_dir, classes, files)\n",
        "\n",
        "      img = image.load_img(file_path, target_size=(224,224))\n",
        "      x = image.img_to_array(img)\n",
        "      x = np.expand_dims(x, axis=0)\n",
        "      x = x / 255\n",
        "\n",
        "      predicted_class = model.predict(x, batch_size=10)\n",
        "      max_prob = np.max(predicted_class)\n",
        "      predicted_class = np.argmax(predicted_class)\n",
        "\n",
        "      real_class = images_classes_name.index(classes)\n",
        "\n",
        "      if predicted_class != real_class :\n",
        "        test_image_path.append(files)\n",
        "        real_class_list.append(real_class)\n",
        "        max_prob_list.append(max_prob)\n",
        "        predicted_class_list.append(predicted_class)\n",
        "\n",
        "  wrong_pred_dict = {'image_name': test_image_path, 'max_prob':max_prob_list,'real_class': real_class_list, 'predicted_class': predicted_class_list}\n",
        "  wrong_pred_df = pd.DataFrame(wrong_pred_dict)\n",
        "\n",
        "  return wrong_pred_df"
      ],
      "metadata": {
        "id": "JxrgIUddSTvX"
      },
      "execution_count": null,
      "outputs": []
    },
    {
      "cell_type": "code",
      "source": [
        "check_dir = '/tmp/SB-FishDisease'\n",
        "\n",
        "false_pred_df = check_wrong_pred(check_dir, model)"
      ],
      "metadata": {
        "id": "xL2Qp0DF0Cbe"
      },
      "execution_count": null,
      "outputs": []
    },
    {
      "cell_type": "code",
      "source": [
        "false_pred_df"
      ],
      "metadata": {
        "id": "jCJzIEQPhi0Z",
        "colab": {
          "base_uri": "https://localhost:8080/",
          "height": 551
        },
        "outputId": "51d566e9-4f79-4506-95c0-95b90736848b"
      },
      "execution_count": null,
      "outputs": [
        {
          "output_type": "execute_result",
          "data": {
            "text/plain": [
              "                                    image_name  max_prob  real_class  \\\n",
              "0                Bacterial Red disease (7).png  0.543418           0   \n",
              "1               Bacterial Red disease (40).jpg  0.711207           0   \n",
              "2               Bacterial Red disease (28).jpg  0.585902           0   \n",
              "3   Bacterial diseases - Aeromoniasis (3).jpeg  0.520531           1   \n",
              "4   Bacterial diseases - Aeromoniasis (39).jpg  0.562899           1   \n",
              "5              Bacterial gill disease (20).jpg  0.924842           2   \n",
              "6      Fungal diseases Saprolegniasis (26).jpg  0.864113           3   \n",
              "7      Fungal diseases Saprolegniasis (24).jpg  0.893917           3   \n",
              "8      Fungal diseases Saprolegniasis (22).jpg  0.467914           3   \n",
              "9                  Parasitic diseases (15).jpg  0.628454           5   \n",
              "10                 Parasitic diseases (27).jpg  0.421492           5   \n",
              "11                  Parasitic diseases (2).jpg  0.502597           5   \n",
              "12  Viral diseases White tail disease (12).jpg  0.534687           6   \n",
              "13   Viral diseases White tail disease (4).png  0.329074           6   \n",
              "14  Viral diseases White tail disease (15).jpg  0.974155           6   \n",
              "15  Viral diseases White tail disease (2).webp  0.633864           6   \n",
              "\n",
              "    predicted_class  \n",
              "0                 2  \n",
              "1                 1  \n",
              "2                 4  \n",
              "3                 6  \n",
              "4                 2  \n",
              "5                 3  \n",
              "6                 1  \n",
              "7                 2  \n",
              "8                 4  \n",
              "9                 6  \n",
              "10                2  \n",
              "11                2  \n",
              "12                3  \n",
              "13                2  \n",
              "14                4  \n",
              "15                2  "
            ],
            "text/html": [
              "\n",
              "  <div id=\"df-f59d9331-6957-46b6-9064-0b226b184786\" class=\"colab-df-container\">\n",
              "    <div>\n",
              "<style scoped>\n",
              "    .dataframe tbody tr th:only-of-type {\n",
              "        vertical-align: middle;\n",
              "    }\n",
              "\n",
              "    .dataframe tbody tr th {\n",
              "        vertical-align: top;\n",
              "    }\n",
              "\n",
              "    .dataframe thead th {\n",
              "        text-align: right;\n",
              "    }\n",
              "</style>\n",
              "<table border=\"1\" class=\"dataframe\">\n",
              "  <thead>\n",
              "    <tr style=\"text-align: right;\">\n",
              "      <th></th>\n",
              "      <th>image_name</th>\n",
              "      <th>max_prob</th>\n",
              "      <th>real_class</th>\n",
              "      <th>predicted_class</th>\n",
              "    </tr>\n",
              "  </thead>\n",
              "  <tbody>\n",
              "    <tr>\n",
              "      <th>0</th>\n",
              "      <td>Bacterial Red disease (7).png</td>\n",
              "      <td>0.543418</td>\n",
              "      <td>0</td>\n",
              "      <td>2</td>\n",
              "    </tr>\n",
              "    <tr>\n",
              "      <th>1</th>\n",
              "      <td>Bacterial Red disease (40).jpg</td>\n",
              "      <td>0.711207</td>\n",
              "      <td>0</td>\n",
              "      <td>1</td>\n",
              "    </tr>\n",
              "    <tr>\n",
              "      <th>2</th>\n",
              "      <td>Bacterial Red disease (28).jpg</td>\n",
              "      <td>0.585902</td>\n",
              "      <td>0</td>\n",
              "      <td>4</td>\n",
              "    </tr>\n",
              "    <tr>\n",
              "      <th>3</th>\n",
              "      <td>Bacterial diseases - Aeromoniasis (3).jpeg</td>\n",
              "      <td>0.520531</td>\n",
              "      <td>1</td>\n",
              "      <td>6</td>\n",
              "    </tr>\n",
              "    <tr>\n",
              "      <th>4</th>\n",
              "      <td>Bacterial diseases - Aeromoniasis (39).jpg</td>\n",
              "      <td>0.562899</td>\n",
              "      <td>1</td>\n",
              "      <td>2</td>\n",
              "    </tr>\n",
              "    <tr>\n",
              "      <th>5</th>\n",
              "      <td>Bacterial gill disease (20).jpg</td>\n",
              "      <td>0.924842</td>\n",
              "      <td>2</td>\n",
              "      <td>3</td>\n",
              "    </tr>\n",
              "    <tr>\n",
              "      <th>6</th>\n",
              "      <td>Fungal diseases Saprolegniasis (26).jpg</td>\n",
              "      <td>0.864113</td>\n",
              "      <td>3</td>\n",
              "      <td>1</td>\n",
              "    </tr>\n",
              "    <tr>\n",
              "      <th>7</th>\n",
              "      <td>Fungal diseases Saprolegniasis (24).jpg</td>\n",
              "      <td>0.893917</td>\n",
              "      <td>3</td>\n",
              "      <td>2</td>\n",
              "    </tr>\n",
              "    <tr>\n",
              "      <th>8</th>\n",
              "      <td>Fungal diseases Saprolegniasis (22).jpg</td>\n",
              "      <td>0.467914</td>\n",
              "      <td>3</td>\n",
              "      <td>4</td>\n",
              "    </tr>\n",
              "    <tr>\n",
              "      <th>9</th>\n",
              "      <td>Parasitic diseases (15).jpg</td>\n",
              "      <td>0.628454</td>\n",
              "      <td>5</td>\n",
              "      <td>6</td>\n",
              "    </tr>\n",
              "    <tr>\n",
              "      <th>10</th>\n",
              "      <td>Parasitic diseases (27).jpg</td>\n",
              "      <td>0.421492</td>\n",
              "      <td>5</td>\n",
              "      <td>2</td>\n",
              "    </tr>\n",
              "    <tr>\n",
              "      <th>11</th>\n",
              "      <td>Parasitic diseases (2).jpg</td>\n",
              "      <td>0.502597</td>\n",
              "      <td>5</td>\n",
              "      <td>2</td>\n",
              "    </tr>\n",
              "    <tr>\n",
              "      <th>12</th>\n",
              "      <td>Viral diseases White tail disease (12).jpg</td>\n",
              "      <td>0.534687</td>\n",
              "      <td>6</td>\n",
              "      <td>3</td>\n",
              "    </tr>\n",
              "    <tr>\n",
              "      <th>13</th>\n",
              "      <td>Viral diseases White tail disease (4).png</td>\n",
              "      <td>0.329074</td>\n",
              "      <td>6</td>\n",
              "      <td>2</td>\n",
              "    </tr>\n",
              "    <tr>\n",
              "      <th>14</th>\n",
              "      <td>Viral diseases White tail disease (15).jpg</td>\n",
              "      <td>0.974155</td>\n",
              "      <td>6</td>\n",
              "      <td>4</td>\n",
              "    </tr>\n",
              "    <tr>\n",
              "      <th>15</th>\n",
              "      <td>Viral diseases White tail disease (2).webp</td>\n",
              "      <td>0.633864</td>\n",
              "      <td>6</td>\n",
              "      <td>2</td>\n",
              "    </tr>\n",
              "  </tbody>\n",
              "</table>\n",
              "</div>\n",
              "    <div class=\"colab-df-buttons\">\n",
              "\n",
              "  <div class=\"colab-df-container\">\n",
              "    <button class=\"colab-df-convert\" onclick=\"convertToInteractive('df-f59d9331-6957-46b6-9064-0b226b184786')\"\n",
              "            title=\"Convert this dataframe to an interactive table.\"\n",
              "            style=\"display:none;\">\n",
              "\n",
              "  <svg xmlns=\"http://www.w3.org/2000/svg\" height=\"24px\" viewBox=\"0 -960 960 960\">\n",
              "    <path d=\"M120-120v-720h720v720H120Zm60-500h600v-160H180v160Zm220 220h160v-160H400v160Zm0 220h160v-160H400v160ZM180-400h160v-160H180v160Zm440 0h160v-160H620v160ZM180-180h160v-160H180v160Zm440 0h160v-160H620v160Z\"/>\n",
              "  </svg>\n",
              "    </button>\n",
              "\n",
              "  <style>\n",
              "    .colab-df-container {\n",
              "      display:flex;\n",
              "      gap: 12px;\n",
              "    }\n",
              "\n",
              "    .colab-df-convert {\n",
              "      background-color: #E8F0FE;\n",
              "      border: none;\n",
              "      border-radius: 50%;\n",
              "      cursor: pointer;\n",
              "      display: none;\n",
              "      fill: #1967D2;\n",
              "      height: 32px;\n",
              "      padding: 0 0 0 0;\n",
              "      width: 32px;\n",
              "    }\n",
              "\n",
              "    .colab-df-convert:hover {\n",
              "      background-color: #E2EBFA;\n",
              "      box-shadow: 0px 1px 2px rgba(60, 64, 67, 0.3), 0px 1px 3px 1px rgba(60, 64, 67, 0.15);\n",
              "      fill: #174EA6;\n",
              "    }\n",
              "\n",
              "    .colab-df-buttons div {\n",
              "      margin-bottom: 4px;\n",
              "    }\n",
              "\n",
              "    [theme=dark] .colab-df-convert {\n",
              "      background-color: #3B4455;\n",
              "      fill: #D2E3FC;\n",
              "    }\n",
              "\n",
              "    [theme=dark] .colab-df-convert:hover {\n",
              "      background-color: #434B5C;\n",
              "      box-shadow: 0px 1px 3px 1px rgba(0, 0, 0, 0.15);\n",
              "      filter: drop-shadow(0px 1px 2px rgba(0, 0, 0, 0.3));\n",
              "      fill: #FFFFFF;\n",
              "    }\n",
              "  </style>\n",
              "\n",
              "    <script>\n",
              "      const buttonEl =\n",
              "        document.querySelector('#df-f59d9331-6957-46b6-9064-0b226b184786 button.colab-df-convert');\n",
              "      buttonEl.style.display =\n",
              "        google.colab.kernel.accessAllowed ? 'block' : 'none';\n",
              "\n",
              "      async function convertToInteractive(key) {\n",
              "        const element = document.querySelector('#df-f59d9331-6957-46b6-9064-0b226b184786');\n",
              "        const dataTable =\n",
              "          await google.colab.kernel.invokeFunction('convertToInteractive',\n",
              "                                                    [key], {});\n",
              "        if (!dataTable) return;\n",
              "\n",
              "        const docLinkHtml = 'Like what you see? Visit the ' +\n",
              "          '<a target=\"_blank\" href=https://colab.research.google.com/notebooks/data_table.ipynb>data table notebook</a>'\n",
              "          + ' to learn more about interactive tables.';\n",
              "        element.innerHTML = '';\n",
              "        dataTable['output_type'] = 'display_data';\n",
              "        await google.colab.output.renderOutput(dataTable, element);\n",
              "        const docLink = document.createElement('div');\n",
              "        docLink.innerHTML = docLinkHtml;\n",
              "        element.appendChild(docLink);\n",
              "      }\n",
              "    </script>\n",
              "  </div>\n",
              "\n",
              "\n",
              "<div id=\"df-f5227e98-8e8b-454d-95b5-ead55acb5e27\">\n",
              "  <button class=\"colab-df-quickchart\" onclick=\"quickchart('df-f5227e98-8e8b-454d-95b5-ead55acb5e27')\"\n",
              "            title=\"Suggest charts\"\n",
              "            style=\"display:none;\">\n",
              "\n",
              "<svg xmlns=\"http://www.w3.org/2000/svg\" height=\"24px\"viewBox=\"0 0 24 24\"\n",
              "     width=\"24px\">\n",
              "    <g>\n",
              "        <path d=\"M19 3H5c-1.1 0-2 .9-2 2v14c0 1.1.9 2 2 2h14c1.1 0 2-.9 2-2V5c0-1.1-.9-2-2-2zM9 17H7v-7h2v7zm4 0h-2V7h2v10zm4 0h-2v-4h2v4z\"/>\n",
              "    </g>\n",
              "</svg>\n",
              "  </button>\n",
              "\n",
              "<style>\n",
              "  .colab-df-quickchart {\n",
              "      --bg-color: #E8F0FE;\n",
              "      --fill-color: #1967D2;\n",
              "      --hover-bg-color: #E2EBFA;\n",
              "      --hover-fill-color: #174EA6;\n",
              "      --disabled-fill-color: #AAA;\n",
              "      --disabled-bg-color: #DDD;\n",
              "  }\n",
              "\n",
              "  [theme=dark] .colab-df-quickchart {\n",
              "      --bg-color: #3B4455;\n",
              "      --fill-color: #D2E3FC;\n",
              "      --hover-bg-color: #434B5C;\n",
              "      --hover-fill-color: #FFFFFF;\n",
              "      --disabled-bg-color: #3B4455;\n",
              "      --disabled-fill-color: #666;\n",
              "  }\n",
              "\n",
              "  .colab-df-quickchart {\n",
              "    background-color: var(--bg-color);\n",
              "    border: none;\n",
              "    border-radius: 50%;\n",
              "    cursor: pointer;\n",
              "    display: none;\n",
              "    fill: var(--fill-color);\n",
              "    height: 32px;\n",
              "    padding: 0;\n",
              "    width: 32px;\n",
              "  }\n",
              "\n",
              "  .colab-df-quickchart:hover {\n",
              "    background-color: var(--hover-bg-color);\n",
              "    box-shadow: 0 1px 2px rgba(60, 64, 67, 0.3), 0 1px 3px 1px rgba(60, 64, 67, 0.15);\n",
              "    fill: var(--button-hover-fill-color);\n",
              "  }\n",
              "\n",
              "  .colab-df-quickchart-complete:disabled,\n",
              "  .colab-df-quickchart-complete:disabled:hover {\n",
              "    background-color: var(--disabled-bg-color);\n",
              "    fill: var(--disabled-fill-color);\n",
              "    box-shadow: none;\n",
              "  }\n",
              "\n",
              "  .colab-df-spinner {\n",
              "    border: 2px solid var(--fill-color);\n",
              "    border-color: transparent;\n",
              "    border-bottom-color: var(--fill-color);\n",
              "    animation:\n",
              "      spin 1s steps(1) infinite;\n",
              "  }\n",
              "\n",
              "  @keyframes spin {\n",
              "    0% {\n",
              "      border-color: transparent;\n",
              "      border-bottom-color: var(--fill-color);\n",
              "      border-left-color: var(--fill-color);\n",
              "    }\n",
              "    20% {\n",
              "      border-color: transparent;\n",
              "      border-left-color: var(--fill-color);\n",
              "      border-top-color: var(--fill-color);\n",
              "    }\n",
              "    30% {\n",
              "      border-color: transparent;\n",
              "      border-left-color: var(--fill-color);\n",
              "      border-top-color: var(--fill-color);\n",
              "      border-right-color: var(--fill-color);\n",
              "    }\n",
              "    40% {\n",
              "      border-color: transparent;\n",
              "      border-right-color: var(--fill-color);\n",
              "      border-top-color: var(--fill-color);\n",
              "    }\n",
              "    60% {\n",
              "      border-color: transparent;\n",
              "      border-right-color: var(--fill-color);\n",
              "    }\n",
              "    80% {\n",
              "      border-color: transparent;\n",
              "      border-right-color: var(--fill-color);\n",
              "      border-bottom-color: var(--fill-color);\n",
              "    }\n",
              "    90% {\n",
              "      border-color: transparent;\n",
              "      border-bottom-color: var(--fill-color);\n",
              "    }\n",
              "  }\n",
              "</style>\n",
              "\n",
              "  <script>\n",
              "    async function quickchart(key) {\n",
              "      const quickchartButtonEl =\n",
              "        document.querySelector('#' + key + ' button');\n",
              "      quickchartButtonEl.disabled = true;  // To prevent multiple clicks.\n",
              "      quickchartButtonEl.classList.add('colab-df-spinner');\n",
              "      try {\n",
              "        const charts = await google.colab.kernel.invokeFunction(\n",
              "            'suggestCharts', [key], {});\n",
              "      } catch (error) {\n",
              "        console.error('Error during call to suggestCharts:', error);\n",
              "      }\n",
              "      quickchartButtonEl.classList.remove('colab-df-spinner');\n",
              "      quickchartButtonEl.classList.add('colab-df-quickchart-complete');\n",
              "    }\n",
              "    (() => {\n",
              "      let quickchartButtonEl =\n",
              "        document.querySelector('#df-f5227e98-8e8b-454d-95b5-ead55acb5e27 button');\n",
              "      quickchartButtonEl.style.display =\n",
              "        google.colab.kernel.accessAllowed ? 'block' : 'none';\n",
              "    })();\n",
              "  </script>\n",
              "</div>\n",
              "    </div>\n",
              "  </div>\n"
            ]
          },
          "metadata": {},
          "execution_count": 44
        }
      ]
    }
  ]
}